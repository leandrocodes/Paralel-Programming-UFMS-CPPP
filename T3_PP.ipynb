{
  "nbformat": 4,
  "nbformat_minor": 0,
  "metadata": {
    "colab": {
      "name": "T3 PP.ipynb",
      "provenance": [],
      "private_outputs": true,
      "collapsed_sections": []
    },
    "kernelspec": {
      "name": "python3",
      "display_name": "Python 3"
    },
    "accelerator": "GPU"
  },
  "cells": [
    {
      "cell_type": "markdown",
      "metadata": {
        "id": "NVXf_Mpbsx1-",
        "colab_type": "text"
      },
      "source": [
        "Installation Setup\n"
      ]
    },
    {
      "cell_type": "code",
      "metadata": {
        "id": "2PejxPtLsFui",
        "colab_type": "code",
        "colab": {}
      },
      "source": [
        "!pip install git+git://github.com/andreinechaev/nvcc4jupyter.git\n",
        "%load_ext nvcc_plugin"
      ],
      "execution_count": 0,
      "outputs": []
    },
    {
      "cell_type": "markdown",
      "metadata": {
        "id": "_qMJDHNbvm5S",
        "colab_type": "text"
      },
      "source": [
        "# I) Soma de prefixos da Matriz A"
      ]
    },
    {
      "cell_type": "markdown",
      "metadata": {
        "id": "hx-7Rr6NvvKm",
        "colab_type": "text"
      },
      "source": [
        "### Algoritmo N⁰ 1 - Sequencial "
      ]
    },
    {
      "cell_type": "code",
      "metadata": {
        "id": "MBhXLXHlxt3r",
        "colab_type": "code",
        "colab": {}
      },
      "source": [
        "%%cu\n",
        "\n",
        "#include <stdio.h>\n",
        "#include <stdlib.h>\n",
        "#include <time.h>\n",
        "#include <unistd.h>\n",
        "#define N 32\n",
        "\n",
        "int main() {\n",
        "  int values[N][N];\n",
        "  int psa[N][N];\n",
        "  double time = 0.0;\n",
        "\n",
        "  // PREENCHE OS VETORES\n",
        "  for (long int i = 0; i < N; i++) {\n",
        "    for (long int j = 0; j < N; j++) {\n",
        "      values[i][j] = 1 + rand() % 500;\n",
        "      psa[i][j] = values[i][j];\n",
        "    }\n",
        "  }\n",
        "  // PRINTA OS VETORES\n",
        "  /* for (int i = 0; i < N; i++) {\n",
        "    for (int j = 0; j < N; j++) {\n",
        "      printf(\"%i \", values[i][j]);\n",
        "    }\n",
        "    printf(\"\\n\");\n",
        "  } */\n",
        "\n",
        "  // FAZ A SOMA DOS PREFIXOS E COLETA O TEMPO\n",
        "\n",
        "  clock_t begin = clock();\n",
        "  \n",
        "  for (int i = 0; i < N; i++) {\n",
        "    for (int j = 0; j < N; j++) {\n",
        "      psa[i][j] =\n",
        "          psa[i - 1][j] + psa[i][j - 1] - psa[i - 1][j - 1] + values[i][j];\n",
        "    }\n",
        "  }\n",
        "\n",
        "  clock_t end = clock();\n",
        "  time += (double)(end - begin) / CLOCKS_PER_SEC;\n",
        "\n",
        "  printf(\"\\n ------------------------ \\n\");\n",
        "\n",
        "  // PRINTA OS PREFIXOS\n",
        "  /*  for (int i = 0; i < N; i++) {\n",
        "     for (int j = 0; j < N; j++) {\n",
        "       printf(\"%i \", psa[i][j]);\n",
        "     }\n",
        "     printf(\"\\n\");\n",
        "   } */\n",
        "\n",
        "  printf(\"Tempo gasto: %f ms \\n\", time * 1000);\n",
        "}"
      ],
      "execution_count": 0,
      "outputs": []
    }
  ]
}