{
  "nbformat": 4,
  "nbformat_minor": 0,
  "metadata": {
    "colab": {
      "name": "T2 PP.ipynb",
      "provenance": [],
      "collapsed_sections": [
        "TvdJE6cf5LqO",
        "4kf76lrF5Ysv",
        "_bnge7HJ8O2w",
        "ClbGsJQcnXqX"
      ],
      "include_colab_link": true
    },
    "kernelspec": {
      "name": "python3",
      "display_name": "Python 3"
    },
    "accelerator": "GPU"
  },
  "cells": [
    {
      "cell_type": "markdown",
      "metadata": {
        "id": "view-in-github",
        "colab_type": "text"
      },
      "source": [
        "<a href=\"https://colab.research.google.com/github/leandrocodes/Paralel-Programming-UFMS-CPPP/blob/master/T2_PP.ipynb\" target=\"_parent\"><img src=\"https://colab.research.google.com/assets/colab-badge.svg\" alt=\"Open In Colab\"/></a>"
      ]
    },
    {
      "cell_type": "code",
      "metadata": {
        "id": "ZXqbgx8VCmti",
        "colab_type": "code",
        "outputId": "3f2898c7-15b2-4f8b-8f46-526f01e3781c",
        "colab": {
          "base_uri": "https://localhost:8080/",
          "height": 224
        }
      },
      "source": [
        "!pip install git+git://github.com/andreinechaev/nvcc4jupyter.git\n",
        "%load_ext nvcc_plugin"
      ],
      "execution_count": 4,
      "outputs": [
        {
          "output_type": "stream",
          "text": [
            "Collecting git+git://github.com/andreinechaev/nvcc4jupyter.git\n",
            "  Cloning git://github.com/andreinechaev/nvcc4jupyter.git to /tmp/pip-req-build-_borkbz1\n",
            "  Running command git clone -q git://github.com/andreinechaev/nvcc4jupyter.git /tmp/pip-req-build-_borkbz1\n",
            "Requirement already satisfied (use --upgrade to upgrade): NVCCPlugin==0.0.2 from git+git://github.com/andreinechaev/nvcc4jupyter.git in /usr/local/lib/python3.6/dist-packages\n",
            "Building wheels for collected packages: NVCCPlugin\n",
            "  Building wheel for NVCCPlugin (setup.py) ... \u001b[?25l\u001b[?25hdone\n",
            "  Created wheel for NVCCPlugin: filename=NVCCPlugin-0.0.2-cp36-none-any.whl size=4307 sha256=469e99d0b049956a1a56fec824bdc40f4c574c9e1c565f96e30680af0807e80d\n",
            "  Stored in directory: /tmp/pip-ephem-wheel-cache-x75qh55r/wheels/10/c2/05/ca241da37bff77d60d31a9174f988109c61ba989e4d4650516\n",
            "Successfully built NVCCPlugin\n",
            "created output directory at /content/src\n",
            "Out bin /content/result.out\n"
          ],
          "name": "stdout"
        }
      ]
    },
    {
      "cell_type": "markdown",
      "metadata": {
        "id": "TvdJE6cf5LqO",
        "colab_type": "text"
      },
      "source": [
        "## Pt.1 - Sequencial 💻"
      ]
    },
    {
      "cell_type": "code",
      "metadata": {
        "id": "QR5gQUGPF3HH",
        "colab_type": "code",
        "outputId": "c6cef880-24de-4ad4-c5fb-6626450b9a11",
        "colab": {
          "base_uri": "https://localhost:8080/",
          "height": 34
        }
      },
      "source": [
        "%%cu\n",
        "#include <stdlib.h>\n",
        "#include <stdio.h>\n",
        "#include <time.h>\n",
        "#include <unistd.h>\n",
        "#define N 262144\n",
        "\n",
        "int main(){\n",
        "    long int a[N];\n",
        "    long int b[N];\n",
        "    long int c[N];\n",
        "    long int soma;\n",
        "\n",
        "    double time = 0.0;\n",
        "\n",
        "    for (long int i = 0; i < N; i++){\n",
        "        a[i] = 1;   \n",
        "        b[i] = i;\n",
        "    }\n",
        "\n",
        "    clock_t begin = clock();\n",
        "    for (long int i = 0; i < N; i++){\n",
        "        c[i] = a[i] * b[i];\n",
        "        soma += c[i];\n",
        "\n",
        "    }\n",
        "\n",
        "    clock_t end = clock();\n",
        "    time += (double)(end - begin) / CLOCKS_PER_SEC;\n",
        "\n",
        "    printf(\"Tempo gasto: %f ms\", time*1000);\n",
        "    //printf(\"\\n %li\", c[1024]);\n",
        "    //printf(\"\\n %li\", soma);\n",
        "}"
      ],
      "execution_count": 9,
      "outputs": [
        {
          "output_type": "stream",
          "text": [
            "Tempo gasto: 1.733000 ms\n"
          ],
          "name": "stdout"
        }
      ]
    },
    {
      "cell_type": "markdown",
      "metadata": {
        "id": "4kf76lrF5Ysv",
        "colab_type": "text"
      },
      "source": [
        "## Pt.2 - Global Memory Only 💻"
      ]
    },
    {
      "cell_type": "code",
      "metadata": {
        "id": "i0zq1jhZ5jma",
        "colab_type": "code",
        "outputId": "f04b2549-14d4-47b9-ad7f-6fcbe2a4f4a2",
        "colab": {
          "base_uri": "https://localhost:8080/",
          "height": 51
        }
      },
      "source": [
        "%%cu\n",
        "#include <stdlib.h>\n",
        "#include <stdio.h>\n",
        "#include <time.h>\n",
        "#include <unistd.h>\n",
        "\n",
        "#include <iostream>\n",
        "#include <numeric>\n",
        "#include <cuda.h>\n",
        "\n",
        "#define B 524888\n",
        "#define T 1024\n",
        "\n",
        "static void CheckCudaErrorAux (const char *, unsigned, const char *, cudaError_t);\n",
        "#define CUDA_CHECK_RETURN(value) CheckCudaErrorAux(__FILE__,__LINE__, #value, value)\n",
        "\n",
        "__global__ void dot( int *a, int *b, int *c ) {\n",
        "   \n",
        "   int index = threadIdx.x + blockIdx.x * blockDim.x;\n",
        "   c[index] = a[index] * b[index];\n",
        "    \n",
        "  __syncthreads();\n",
        "    \n",
        "  if( 0 == threadIdx.x && 0== blockIdx.x ) {\n",
        "    int sum = 0;\n",
        "    for( int i = 0; i < B; i++ )\n",
        "    sum += c[i];\n",
        "    atomicAdd(c, sum);\n",
        "  }\n",
        "\n",
        "}\n",
        "\n",
        "\n",
        "int main( void ) {\n",
        "  int *a, *b, *c;\n",
        "  int *dev_a, *dev_b, *dev_c;\n",
        "  int size = B * sizeof( int );\n",
        "    \n",
        "  cudaMalloc( (void**)&dev_a, size );\n",
        "  cudaMalloc( (void**)&dev_b, size );\n",
        "  cudaMalloc( (void**)&dev_c, sizeof(int) );\n",
        "    \n",
        "  a = (int*)malloc( size );\n",
        "  b = (int*)malloc( size );\n",
        "  c = (int*)malloc( sizeof(int) );\n",
        "    \n",
        "  for (int i = 0; i < B; i++){\n",
        "\t\ta[i] = 1 + rand() % B; \n",
        "    b[i] = 1;\n",
        "\t}\n",
        "\n",
        "  cudaMemcpy( dev_a, a, size, cudaMemcpyHostToDevice );\n",
        "  cudaMemcpy( dev_b, b, size, cudaMemcpyHostToDevice );\n",
        "  \n",
        "    cudaEvent_t start, stop;\n",
        "    CUDA_CHECK_RETURN(cudaEventCreate(&start));\n",
        "    CUDA_CHECK_RETURN(cudaEventCreate(&stop));\n",
        "    float gpu_time = 0.0f;\n",
        "\n",
        "    CUDA_CHECK_RETURN(cudaEventRecord(start, 0)); \n",
        "    \n",
        "    \n",
        "  dot<<< B/T, T>>>( dev_a, dev_b, dev_c );\n",
        "    \n",
        "\n",
        "    CUDA_CHECK_RETURN(cudaEventRecord(stop, 0));\n",
        "    CUDA_CHECK_RETURN(cudaEventSynchronize(stop)); \n",
        "    CUDA_CHECK_RETURN(cudaEventElapsedTime(&gpu_time, start, stop));\n",
        "    \n",
        "    CUDA_CHECK_RETURN(cudaDeviceSynchronize());\n",
        "    \n",
        "\t  printf(\"Tempo de Execução na GPU: %.6f ms \\n\\n\", gpu_time);  \n",
        "    /* FIM DO CÓDIGO QUE MENSURA O TEMPO DE EXECUÇÃO*/\n",
        "    \n",
        "\n",
        "  cudaMemcpy( c, dev_c, sizeof(int), cudaMemcpyDeviceToHost );\n",
        "    \n",
        "  \n",
        "  printf(\"%i \",*c);\n",
        "  \n",
        "  free( a ); free( b ); free( c );\n",
        "    \n",
        "  cudaFree( dev_a );\n",
        "  cudaFree( dev_b );\n",
        "  cudaFree( dev_c );\n",
        "   \n",
        "  return 0;\n",
        "}\n",
        "\n",
        "static void CheckCudaErrorAux (const char *file, unsigned line, const char *statement, cudaError_t err){\n",
        "\tif (err == cudaSuccess) return;\n",
        "\tstd::cerr << statement<<\" returned \" << cudaGetErrorString(err) << \"(\"<<err<< \") at \"<<file<<\":\"<<line << std::endl;\n",
        "\texit (1);\n",
        "}"
      ],
      "execution_count": 0,
      "outputs": [
        {
          "output_type": "stream",
          "text": [
            "cudaEventSynchronize(stop) returned an illegal memory access was encountered(77) at /tmp/tmp39o3seh_/df448796-1f0a-48a2-8b43-a78d0782d1f0.cu:66\n",
            "\n"
          ],
          "name": "stdout"
        }
      ]
    },
    {
      "cell_type": "markdown",
      "metadata": {
        "id": "_bnge7HJ8O2w",
        "colab_type": "text"
      },
      "source": [
        "## Pt.3 - Shared Memory 💻"
      ]
    },
    {
      "cell_type": "code",
      "metadata": {
        "id": "u30yLme-8UFC",
        "colab_type": "code",
        "outputId": "d71f6809-6b3a-4eb7-e6ce-915bd1dde1a5",
        "colab": {
          "base_uri": "https://localhost:8080/",
          "height": 68
        }
      },
      "source": [
        "%%cu\n",
        "#include <stdlib.h>\n",
        "#include <stdio.h>\n",
        "#include <time.h>\n",
        "#include <unistd.h>\n",
        "\n",
        "#include <iostream>\n",
        "#include <numeric>\n",
        "#include <cuda.h>\n",
        "\n",
        "#define B 1048576\n",
        "#define T 1024\n",
        "\n",
        "static void CheckCudaErrorAux (const char *, unsigned, const char *, cudaError_t);\n",
        "#define CUDA_CHECK_RETURN(value) CheckCudaErrorAux(__FILE__,__LINE__, #value, value)\n",
        "\n",
        "\n",
        "__global__ void dot( int *a, int *b, int *c ) {\n",
        "    \n",
        "  __shared__ int sharedSum[T];\n",
        "    \n",
        "   int index = threadIdx.x + blockIdx.x * blockDim.x;\n",
        "  sharedSum[threadIdx.x] = a[index] * b[index];\n",
        "    \n",
        "  __syncthreads();\n",
        "    \n",
        "  if( 0 == threadIdx.x ) {\n",
        "    int sum = 0;\n",
        "    for( int i = 0; i < T; i++ )\n",
        "    sum += sharedSum[i];\n",
        "    atomicAdd(c, sum);\n",
        "  }\n",
        "\n",
        "}\n",
        "\n",
        "\n",
        "int main( void ) {\n",
        "  int *a, *b, *c;\n",
        "  int *dev_a, *dev_b, *dev_c;\n",
        "  int size = B * sizeof( int );\n",
        "    \n",
        "  // allocate device copies of a, b, c\n",
        "  cudaMalloc( (void**)&dev_a, size );\n",
        "  cudaMalloc( (void**)&dev_b, size );\n",
        "  cudaMalloc( (void**)&dev_c, sizeof(int) );\n",
        "    \n",
        "  a = (int*)malloc( size );\n",
        "  b = (int*)malloc( size );\n",
        "  c = (int*)malloc( sizeof(int) );\n",
        "    \n",
        "  for (int i = 0; i < B; i++){\n",
        "\t\ta[i] = 1 + rand() % B; \n",
        "    b[i] = 1;\n",
        "\t}\n",
        "\n",
        "  cudaMemcpy( dev_a, a, size, cudaMemcpyHostToDevice );\n",
        "  cudaMemcpy( dev_b, b, size, cudaMemcpyHostToDevice );\n",
        "  \n",
        "    cudaEvent_t start, stop;\n",
        "    CUDA_CHECK_RETURN(cudaEventCreate(&start));\n",
        "    CUDA_CHECK_RETURN(cudaEventCreate(&stop));\n",
        "    float gpu_time = 0.0f;\n",
        "\n",
        "    CUDA_CHECK_RETURN(cudaEventRecord(start, 0)); \n",
        "    \n",
        "  dot<<< B/T, T>>>( dev_a, dev_b, dev_c );\n",
        "    \n",
        "    CUDA_CHECK_RETURN(cudaEventRecord(stop, 0));\n",
        "    CUDA_CHECK_RETURN(cudaEventSynchronize(stop)); \n",
        "    CUDA_CHECK_RETURN(cudaEventElapsedTime(&gpu_time, start, stop));\n",
        "    \n",
        "    CUDA_CHECK_RETURN(cudaDeviceSynchronize());\n",
        "    \n",
        "\t  printf(\"Tempo de Execução na GPU: %.6f ms \\n\\n\", gpu_time);  \n",
        "    \n",
        "  cudaMemcpy( c, dev_c, sizeof(int), cudaMemcpyDeviceToHost );\n",
        "    \n",
        "  printf(\"%i \",*c);\n",
        "    \n",
        "  free( a ); free( b ); free( c );\n",
        "    \n",
        "  cudaFree( dev_a );\n",
        "  cudaFree( dev_b );\n",
        "  cudaFree( dev_c );\n",
        "   \n",
        "  return 0;\n",
        "}\n",
        "\n",
        "static void CheckCudaErrorAux (const char *file, unsigned line, const char *statement, cudaError_t err){\n",
        "\tif (err == cudaSuccess) return;\n",
        "\tstd::cerr << statement<<\" returned \" << cudaGetErrorString(err) << \"(\"<<err<< \") at \"<<file<<\":\"<<line << std::endl;\n",
        "\texit (1);\n",
        "}"
      ],
      "execution_count": 0,
      "outputs": [
        {
          "output_type": "stream",
          "text": [
            "Tempo de Execução na GPU: 0.891904 ms \n",
            "\n",
            "-248774778 \n"
          ],
          "name": "stdout"
        }
      ]
    },
    {
      "cell_type": "code",
      "metadata": {
        "colab_type": "code",
        "outputId": "ae8f357a-ddda-4da3-9a4b-b88911847cd4",
        "id": "7TfDkrJonAd5",
        "colab": {
          "base_uri": "https://localhost:8080/",
          "height": 68
        }
      },
      "source": [
        ""
      ],
      "execution_count": 0,
      "outputs": [
        {
          "output_type": "stream",
          "text": [
            "Tempo gasto: 0.028000 ms \n",
            "CPU: 1.04858e+06\n",
            "\n"
          ],
          "name": "stdout"
        }
      ]
    },
    {
      "cell_type": "markdown",
      "metadata": {
        "id": "rwKOLD9znE9k",
        "colab_type": "text"
      },
      "source": [
        ""
      ]
    },
    {
      "cell_type": "markdown",
      "metadata": {
        "id": "ClbGsJQcnXqX",
        "colab_type": "text"
      },
      "source": [
        "## Pt.4 - Dot Product 💻"
      ]
    },
    {
      "cell_type": "code",
      "metadata": {
        "id": "SP9Kh4D9ndF8",
        "colab_type": "code",
        "colab": {}
      },
      "source": [
        "%%cu\n",
        "#include <vector>\n",
        "#include <iostream>\n",
        "#define CUDA_CHECK_RETURN(value) CheckCudaErrorAux(__FILE__,__LINE__, #value, value)\n",
        "typedef float real_t;\n",
        "const size_t BLOCK_SIZE = 1024;\n",
        "\n",
        "__global__ void full_dot( const real_t* v1, const real_t* v2, real_t* out, int N ) {\n",
        "   \n",
        "    __shared__ real_t cache[ BLOCK_SIZE ];\n",
        "    int i = blockIdx.x * blockDim.x + threadIdx.x;\n",
        "    cache[ threadIdx.x ] = 0.f;\n",
        "   \n",
        "    while( i < N ) {\n",
        "        cache[ threadIdx.x ] += v1[ i ] * v2[ i ];\n",
        "        i += gridDim.x * blockDim.x;\n",
        "    }\n",
        "   \n",
        "    __syncthreads();\n",
        "   \n",
        "    i = BLOCK_SIZE / 2;\n",
        "   \n",
        "    while( i > 0 ) {\n",
        "        if( threadIdx.x < i ) cache[ threadIdx.x ] += cache[ threadIdx.x + i ];\n",
        "        __syncthreads();\n",
        "        i /= 2;\n",
        "    }\n",
        "    \n",
        "    if( threadIdx.x == 0 ) atomicAdd( out, cache[ 0 ] );\n",
        "    if( threadIdx.x == 0 ) *out += cache[ 0 ];              \n",
        "}\n",
        "\n",
        "real_t dot( const real_t* v1, const real_t* v2, int N ) {\n",
        "    real_t s = 0;\n",
        "    for( int i = 0; i != N; ++i ) {\n",
        "        s += v1[ i ] * v2[ i ];\n",
        "    }\n",
        "    return s;\n",
        "}\n",
        "\n",
        "__global__ void init_vector( real_t* v, int N ) {\n",
        "    int i = blockIdx.x * blockDim.x + threadIdx.x;\n",
        "    while( i < N ) {\n",
        "        v[ i ] = 1.0f;//real_t( i ) / 1000000.f;\n",
        "        i += gridDim.x * blockDim.x;\n",
        "    } \n",
        "}\n",
        "\n",
        "//------------------------------------------------------------------------------\n",
        "int main(int argc, char** argv ) {\n",
        "    \n",
        "    const size_t ARRAY_SIZE = 1048576;\n",
        "    const int BLOCKS = 1024;\n",
        "    const int THREADS_PER_BLOCK = BLOCK_SIZE;                                  \n",
        "    const size_t SIZE = ARRAY_SIZE * sizeof( real_t );\n",
        "    \n",
        "    // device storage\n",
        "    real_t* dev_v1 = 0;  // vector 1\n",
        "    real_t* dev_v2 = 0;  // vector 2\n",
        "    real_t* dev_out = 0; // result\n",
        "    cudaMalloc( &dev_v1,  SIZE );\n",
        "    cudaMalloc( &dev_v2,  SIZE );\n",
        "    cudaMalloc( &dev_out, sizeof( real_t ) );\n",
        "\n",
        "    // host storage\n",
        "    std::vector< real_t > host_v1( ARRAY_SIZE );\n",
        "    std::vector< real_t > host_v2( ARRAY_SIZE );\n",
        "    real_t host_out = 0.f;\n",
        "\n",
        "\n",
        "    // initialize vector 1 with kernel; much faster than using for loops on the cpu\n",
        "    init_vector<<< 1048576, 1024  >>>( dev_v1, ARRAY_SIZE );\n",
        "    cudaMemcpy( &host_v1[ 0 ], dev_v1, SIZE, cudaMemcpyDeviceToHost );\n",
        "    \n",
        "    // initialize vector 2 with kernel; much faster than using for loops on the cpu\n",
        "    init_vector<<< 1048576, 1024  >>>( dev_v2, ARRAY_SIZE );\n",
        "    cudaMemcpy( &host_v2[ 0 ], dev_v2, SIZE, cudaMemcpyDeviceToHost );\n",
        "    \n",
        "    \n",
        "    cudaMemset( dev_out, 0, sizeof( real_t) );   \n",
        "    \n",
        "    double time = 0.0;\n",
        "    clock_t begin = clock();\n",
        "    // execute kernel\n",
        "    full_dot<<<BLOCKS, THREADS_PER_BLOCK>>>( dev_v1, dev_v2, dev_out, ARRAY_SIZE );\n",
        "    clock_t end = clock();\n",
        "    time += (double)(end - begin) / CLOCKS_PER_SEC;\n",
        "    printf(\"Tempo gasto: %f ms \\n\", time*1000);\n",
        "\n",
        "    // copy output data from device(gpu) to host(cpu)\n",
        "    cudaMemcpy( &host_out, dev_out, sizeof( real_t ), cudaMemcpyDeviceToHost );\n",
        "\n",
        "    // print dot product by summing up the partially reduced vectors\n",
        "    // std::cout << \"GPU: \" << host_out << std::endl;    \n",
        "\n",
        "    // print dot product on cpu\n",
        "    std::cout << \"CPU: \" << dot( &host_v1[ 0 ], &host_v2[ 0 ], ARRAY_SIZE ) << std::endl;\n",
        "\n",
        "    // free memory\n",
        "    cudaFree( dev_v1 );\n",
        "    cudaFree( dev_v2 );\n",
        "    cudaFree( dev_out );\n",
        "\n",
        "    return 0;\n",
        "}"
      ],
      "execution_count": 0,
      "outputs": []
    }
  ]
}